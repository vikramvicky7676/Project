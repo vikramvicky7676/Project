{
 "cells": [
  {
   "cell_type": "code",
   "execution_count": 1,
   "id": "097cf16f",
   "metadata": {},
   "outputs": [],
   "source": [
    "import pandas as pd\n",
    "import numpy as np\n",
    "import matplotlib.pyplot as plt\n",
    "from statsmodels.tsa.statespace.sarimax import SARIMAX\n",
    "from sklearn.metrics import mean_squared_error"
   ]
  },
  {
   "cell_type": "code",
   "execution_count": 5,
   "id": "d30ebd2f",
   "metadata": {},
   "outputs": [],
   "source": [
    " # Step 1: Load and preprocess the data\n",
    "df = pd.read_excel(\"D:\\\\projects\\\\project 1st oil price predection\\\\DCOILWTICO (1).xls\")"
   ]
  },
  {
   "cell_type": "code",
   "execution_count": 6,
   "id": "a4243341",
   "metadata": {},
   "outputs": [
    {
     "data": {
      "text/html": [
       "<div>\n",
       "<style scoped>\n",
       "    .dataframe tbody tr th:only-of-type {\n",
       "        vertical-align: middle;\n",
       "    }\n",
       "\n",
       "    .dataframe tbody tr th {\n",
       "        vertical-align: top;\n",
       "    }\n",
       "\n",
       "    .dataframe thead th {\n",
       "        text-align: right;\n",
       "    }\n",
       "</style>\n",
       "<table border=\"1\" class=\"dataframe\">\n",
       "  <thead>\n",
       "    <tr style=\"text-align: right;\">\n",
       "      <th></th>\n",
       "      <th>Date</th>\n",
       "      <th>Price</th>\n",
       "    </tr>\n",
       "  </thead>\n",
       "  <tbody>\n",
       "    <tr>\n",
       "      <th>0</th>\n",
       "      <td>2012-04-02</td>\n",
       "      <td>105.25</td>\n",
       "    </tr>\n",
       "    <tr>\n",
       "      <th>1</th>\n",
       "      <td>2012-04-03</td>\n",
       "      <td>104.02</td>\n",
       "    </tr>\n",
       "    <tr>\n",
       "      <th>2</th>\n",
       "      <td>2012-04-04</td>\n",
       "      <td>101.53</td>\n",
       "    </tr>\n",
       "    <tr>\n",
       "      <th>3</th>\n",
       "      <td>2012-04-05</td>\n",
       "      <td>103.29</td>\n",
       "    </tr>\n",
       "    <tr>\n",
       "      <th>4</th>\n",
       "      <td>2012-04-06</td>\n",
       "      <td>NaN</td>\n",
       "    </tr>\n",
       "    <tr>\n",
       "      <th>...</th>\n",
       "      <td>...</td>\n",
       "      <td>...</td>\n",
       "    </tr>\n",
       "    <tr>\n",
       "      <th>2916</th>\n",
       "      <td>2023-06-06</td>\n",
       "      <td>71.71</td>\n",
       "    </tr>\n",
       "    <tr>\n",
       "      <th>2917</th>\n",
       "      <td>2023-06-07</td>\n",
       "      <td>72.52</td>\n",
       "    </tr>\n",
       "    <tr>\n",
       "      <th>2918</th>\n",
       "      <td>2023-06-08</td>\n",
       "      <td>71.28</td>\n",
       "    </tr>\n",
       "    <tr>\n",
       "      <th>2919</th>\n",
       "      <td>2023-06-09</td>\n",
       "      <td>70.16</td>\n",
       "    </tr>\n",
       "    <tr>\n",
       "      <th>2920</th>\n",
       "      <td>2023-06-12</td>\n",
       "      <td>67.08</td>\n",
       "    </tr>\n",
       "  </tbody>\n",
       "</table>\n",
       "<p>2921 rows × 2 columns</p>\n",
       "</div>"
      ],
      "text/plain": [
       "           Date   Price\n",
       "0    2012-04-02  105.25\n",
       "1    2012-04-03  104.02\n",
       "2    2012-04-04  101.53\n",
       "3    2012-04-05  103.29\n",
       "4    2012-04-06     NaN\n",
       "...         ...     ...\n",
       "2916 2023-06-06   71.71\n",
       "2917 2023-06-07   72.52\n",
       "2918 2023-06-08   71.28\n",
       "2919 2023-06-09   70.16\n",
       "2920 2023-06-12   67.08\n",
       "\n",
       "[2921 rows x 2 columns]"
      ]
     },
     "execution_count": 6,
     "metadata": {},
     "output_type": "execute_result"
    }
   ],
   "source": [
    "df"
   ]
  },
  {
   "cell_type": "code",
   "execution_count": 7,
   "id": "c1ec5244",
   "metadata": {},
   "outputs": [],
   "source": [
    "# Step 2: Preprocessing\n",
    "# Convert 'Date' column to datetime format\n",
    "df['Date'] = pd.to_datetime(df['Date'])\n",
    "# Set 'Date' column as the index\n",
    "df.set_index('Date', inplace=True)\n",
    "\n",
    "# Handle missing values and negative values\n",
    "df['Price'] = df['Price'].replace({0: np.nan, -1: np.nan})\n",
    "df['Price'].fillna(method='ffill', inplace=True)\n",
    "\n",
    "# Transform to stationary format (if needed)\n",
    "# You can use differencing to remove trends and make the data stationary\n",
    "df['Price_diff'] = df['Price'].diff()\n",
    "df.dropna(inplace=True)\n"
   ]
  },
  {
   "cell_type": "code",
   "execution_count": 8,
   "id": "7898ba90",
   "metadata": {},
   "outputs": [],
   "source": [
    "# Step 3: Split the data into train and test sets\n",
    "train_size = int(len(df) * 0.8)  # 80% for training\n",
    "train_data = df.iloc[:train_size]\n",
    "test_data = df.iloc[train_size:]\n"
   ]
  },
  {
   "cell_type": "code",
   "execution_count": 9,
   "id": "b8c03ff0",
   "metadata": {},
   "outputs": [
    {
     "name": "stderr",
     "output_type": "stream",
     "text": [
      "D:\\anaconda softwere\\lib\\site-packages\\statsmodels\\tsa\\base\\tsa_model.py:471: ValueWarning: No frequency information was provided, so inferred frequency B will be used.\n",
      "  self._init_dates(dates, freq)\n",
      "D:\\anaconda softwere\\lib\\site-packages\\statsmodels\\tsa\\base\\tsa_model.py:471: ValueWarning: No frequency information was provided, so inferred frequency B will be used.\n",
      "  self._init_dates(dates, freq)\n"
     ]
    }
   ],
   "source": [
    "# Step 4: Fit the SARIMA model\n",
    "order = (1, 0, 1)  # (p, d, q)\n",
    "seasonal_order = (1, 0, 1, 12)  # (P, D, Q, S)\n",
    "model = SARIMAX(train_data['Price_diff'], order=order, seasonal_order=seasonal_order)\n",
    "fitted_model = model.fit()\n"
   ]
  },
  {
   "cell_type": "code",
   "execution_count": 10,
   "id": "3c391d8c",
   "metadata": {},
   "outputs": [],
   "source": [
    "# Step 5: Make predictions\n",
    "start_date = test_data.index[0]\n",
    "end_date = test_data.index[-1]\n",
    "predicted_diff = fitted_model.predict(start=start_date, end=end_date)\n",
    "predicted_price = df['Price'].iloc[train_size] + predicted_diff.cumsum()"
   ]
  },
  {
   "cell_type": "code",
   "execution_count": 11,
   "id": "b976ebca",
   "metadata": {},
   "outputs": [
    {
     "data": {
      "image/png": "[encoded data removed]",
      "text/plain": [
       "<Figure size 640x480 with 1 Axes>"
      ]
     },
     "metadata": {},
     "output_type": "display_data"
    }
   ],
   "source": [
    "# Step 6: Plot the predicted prices\n",
    "plt.plot(df['Price'], label='Actual Price')\n",
    "plt.plot(predicted_price, label='Predicted Price')\n",
    "plt.legend()\n",
    "plt.xlabel('Date')\n",
    "plt.ylabel('Price')\n",
    "plt.title('SARIMA Model - Predicted vs Actual Prices')\n",
    "plt.show()"
   ]
  },
  {
   "cell_type": "code",
   "execution_count": 12,
   "id": "b1112ee9",
   "metadata": {},
   "outputs": [
    {
     "name": "stdout",
     "output_type": "stream",
     "text": [
      "Mean Squared Error: 531.2672672472929\n"
     ]
    }
   ],
   "source": [
    "# Step 7: Evaluate the model\n",
    "mse = mean_squared_error(test_data['Price'], predicted_price)\n",
    "print(f'Mean Squared Error: {mse}')"
   ]
  },
  {
   "cell_type": "code",
   "execution_count": null,
   "id": "aaabe320",
   "metadata": {},
   "outputs": [],
   "source": []
  }
 ],
 "metadata": {
  "kernelspec": {
   "display_name": "Python 3 (ipykernel)",
   "language": "python",
   "name": "python3"
  },
  "language_info": {
   "codemirror_mode": {
    "name": "ipython",
    "version": 3
   },
   "file_extension": ".py",
   "mimetype": "text/x-python",
   "name": "python",
   "nbconvert_exporter": "python",
   "pygments_lexer": "ipython3",
   "version": "3.10.9"
  }
 },
 "nbformat": 4,
 "nbformat_minor": 5
}
