{
 "cells": [
  {
   "cell_type": "code",
   "execution_count": 1,
   "id": "a3c9045b",
   "metadata": {},
   "outputs": [],
   "source": [
    "import pandas as pd\n",
    "import numpy as np\n",
    "import matplotlib.pyplot as plt\n",
    "from sklearn.preprocessing import StandardScaler\n",
    "from sklearn.model_selection import train_test_split\n",
    "from tensorflow.keras.models import Sequential\n",
    "from tensorflow.keras.layers import Dense, LSTM"
   ]
  },
  {
   "cell_type": "code",
   "execution_count": 2,
   "id": "c53ed73f",
   "metadata": {},
   "outputs": [],
   "source": [
    " # Step 1: Load and preprocess the data\n",
    "data = pd.read_excel(\"D:\\\\projects\\\\project 1st oil price predection\\\\DCOILWTICO (1).xls\")"
   ]
  },
  {
   "cell_type": "code",
   "execution_count": 3,
   "id": "6d109253",
   "metadata": {},
   "outputs": [
    {
     "data": {
      "text/html": [
       "<div>\n",
       "<style scoped>\n",
       "    .dataframe tbody tr th:only-of-type {\n",
       "        vertical-align: middle;\n",
       "    }\n",
       "\n",
       "    .dataframe tbody tr th {\n",
       "        vertical-align: top;\n",
       "    }\n",
       "\n",
       "    .dataframe thead th {\n",
       "        text-align: right;\n",
       "    }\n",
       "</style>\n",
       "<table border=\"1\" class=\"dataframe\">\n",
       "  <thead>\n",
       "    <tr style=\"text-align: right;\">\n",
       "      <th></th>\n",
       "      <th>Date</th>\n",
       "      <th>Price</th>\n",
       "    </tr>\n",
       "  </thead>\n",
       "  <tbody>\n",
       "    <tr>\n",
       "      <th>0</th>\n",
       "      <td>2012-04-02</td>\n",
       "      <td>105.25</td>\n",
       "    </tr>\n",
       "    <tr>\n",
       "      <th>1</th>\n",
       "      <td>2012-04-03</td>\n",
       "      <td>104.02</td>\n",
       "    </tr>\n",
       "    <tr>\n",
       "      <th>2</th>\n",
       "      <td>2012-04-04</td>\n",
       "      <td>101.53</td>\n",
       "    </tr>\n",
       "    <tr>\n",
       "      <th>3</th>\n",
       "      <td>2012-04-05</td>\n",
       "      <td>103.29</td>\n",
       "    </tr>\n",
       "    <tr>\n",
       "      <th>4</th>\n",
       "      <td>2012-04-06</td>\n",
       "      <td>NaN</td>\n",
       "    </tr>\n",
       "    <tr>\n",
       "      <th>...</th>\n",
       "      <td>...</td>\n",
       "      <td>...</td>\n",
       "    </tr>\n",
       "    <tr>\n",
       "      <th>2916</th>\n",
       "      <td>2023-06-06</td>\n",
       "      <td>71.71</td>\n",
       "    </tr>\n",
       "    <tr>\n",
       "      <th>2917</th>\n",
       "      <td>2023-06-07</td>\n",
       "      <td>72.52</td>\n",
       "    </tr>\n",
       "    <tr>\n",
       "      <th>2918</th>\n",
       "      <td>2023-06-08</td>\n",
       "      <td>71.28</td>\n",
       "    </tr>\n",
       "    <tr>\n",
       "      <th>2919</th>\n",
       "      <td>2023-06-09</td>\n",
       "      <td>70.16</td>\n",
       "    </tr>\n",
       "    <tr>\n",
       "      <th>2920</th>\n",
       "      <td>2023-06-12</td>\n",
       "      <td>67.08</td>\n",
       "    </tr>\n",
       "  </tbody>\n",
       "</table>\n",
       "<p>2921 rows × 2 columns</p>\n",
       "</div>"
      ],
      "text/plain": [
       "           Date   Price\n",
       "0    2012-04-02  105.25\n",
       "1    2012-04-03  104.02\n",
       "2    2012-04-04  101.53\n",
       "3    2012-04-05  103.29\n",
       "4    2012-04-06     NaN\n",
       "...         ...     ...\n",
       "2916 2023-06-06   71.71\n",
       "2917 2023-06-07   72.52\n",
       "2918 2023-06-08   71.28\n",
       "2919 2023-06-09   70.16\n",
       "2920 2023-06-12   67.08\n",
       "\n",
       "[2921 rows x 2 columns]"
      ]
     },
     "execution_count": 3,
     "metadata": {},
     "output_type": "execute_result"
    }
   ],
   "source": [
    "data"
   ]
  },
  {
   "cell_type": "code",
   "execution_count": 4,
   "id": "88afe2d2",
   "metadata": {},
   "outputs": [],
   "source": [
    "data['Date'] = pd.to_datetime(data['Date'])  # Convert 'Date' column to datetime\n",
    "data = data.sort_values('Date')  # Sort the data by date in ascending order\n",
    "data = data.set_index('Date')  # Set 'Date' as the index column"
   ]
  },
  {
   "cell_type": "code",
   "execution_count": 5,
   "id": "678b7ab1",
   "metadata": {},
   "outputs": [],
   "source": [
    "# Step 2: Handling missing values\n",
    "data = data.fillna(method='ffill')  # Forward fill missing values"
   ]
  },
  {
   "cell_type": "code",
   "execution_count": 6,
   "id": "effb709a",
   "metadata": {},
   "outputs": [],
   "source": [
    "# Step 3: Handling negative values\n",
    "data['Price'] = data['Price'].apply(lambda x: abs(x))  # Convert negative values to positive"
   ]
  },
  {
   "cell_type": "code",
   "execution_count": 7,
   "id": "8146c1a5",
   "metadata": {},
   "outputs": [],
   "source": [
    "# Step 4: Standardize the data\n",
    "scaler = StandardScaler()\n",
    "data['Price'] = scaler.fit_transform(data['Price'].values.reshape(-1, 1))"
   ]
  },
  {
   "cell_type": "code",
   "execution_count": 8,
   "id": "a66ef1cc",
   "metadata": {},
   "outputs": [],
   "source": [
    "# Step 5: Split the dataset into train and test sets\n",
    "train_size = int(len(data) * 0.8)\n",
    "train_data, test_data = data[:train_size], data[train_size:]"
   ]
  },
  {
   "cell_type": "code",
   "execution_count": 12,
   "id": "f78df6cb",
   "metadata": {},
   "outputs": [],
   "source": [
    "# Step 6: Prepare the data for training\n",
    "def create_sequences(data, seq_length):\n",
    "    sequences = []\n",
    "    for i in range(len(data) - seq_length):\n",
    "        sequence = data[i:i+seq_length]\n",
    "        sequences.append(sequence)\n",
    "    return np.array(sequences)\n",
    "\n",
    "seq_length = 10  # Length of the input sequences\n",
    "X_train = create_sequences(train_data['Price'], seq_length)\n",
    "y_train = X_train[:, -1]\n",
    "X_test = create_sequences(test_data['Price'], seq_length)\n",
    "y_test = X_test[:, -1]"
   ]
  },
  {
   "cell_type": "code",
   "execution_count": 13,
   "id": "c578325d",
   "metadata": {
    "scrolled": true
   },
   "outputs": [
    {
     "name": "stdout",
     "output_type": "stream",
     "text": [
      "Epoch 1/50\n",
      "73/73 [==============================] - 5s 9ms/step - loss: 0.0928\n",
      "Epoch 2/50\n",
      "73/73 [==============================] - 1s 10ms/step - loss: 0.0100\n",
      "Epoch 3/50\n",
      "73/73 [==============================] - 1s 10ms/step - loss: 0.0080\n",
      "Epoch 4/50\n",
      "73/73 [==============================] - 1s 9ms/step - loss: 0.0068\n",
      "Epoch 5/50\n",
      "73/73 [==============================] - 1s 9ms/step - loss: 0.0061\n",
      "Epoch 6/50\n",
      "73/73 [==============================] - 1s 10ms/step - loss: 0.0054\n",
      "Epoch 7/50\n",
      "73/73 [==============================] - 1s 9ms/step - loss: 0.0054\n",
      "Epoch 8/50\n",
      "73/73 [==============================] - 1s 9ms/step - loss: 0.0046\n",
      "Epoch 9/50\n",
      "73/73 [==============================] - 1s 9ms/step - loss: 0.0042\n",
      "Epoch 10/50\n",
      "73/73 [==============================] - 1s 9ms/step - loss: 0.0039\n",
      "Epoch 11/50\n",
      "73/73 [==============================] - 1s 10ms/step - loss: 0.0036\n",
      "Epoch 12/50\n",
      "73/73 [==============================] - 1s 10ms/step - loss: 0.0035\n",
      "Epoch 13/50\n",
      "73/73 [==============================] - 1s 10ms/step - loss: 0.0034\n",
      "Epoch 14/50\n",
      "73/73 [==============================] - 1s 9ms/step - loss: 0.0030\n",
      "Epoch 15/50\n",
      "73/73 [==============================] - 1s 9ms/step - loss: 0.0025\n",
      "Epoch 16/50\n",
      "73/73 [==============================] - 1s 9ms/step - loss: 0.0024\n",
      "Epoch 17/50\n",
      "73/73 [==============================] - 1s 9ms/step - loss: 0.0020\n",
      "Epoch 18/50\n",
      "73/73 [==============================] - 1s 9ms/step - loss: 0.0016\n",
      "Epoch 19/50\n",
      "73/73 [==============================] - 1s 11ms/step - loss: 0.0014\n",
      "Epoch 20/50\n",
      "73/73 [==============================] - 1s 9ms/step - loss: 0.0012\n",
      "Epoch 21/50\n",
      "73/73 [==============================] - 1s 9ms/step - loss: 9.6063e-04\n",
      "Epoch 22/50\n",
      "73/73 [==============================] - 1s 9ms/step - loss: 8.1418e-04\n",
      "Epoch 23/50\n",
      "73/73 [==============================] - 1s 9ms/step - loss: 7.2868e-04\n",
      "Epoch 24/50\n",
      "73/73 [==============================] - 1s 9ms/step - loss: 6.3777e-04\n",
      "Epoch 25/50\n",
      "73/73 [==============================] - 1s 9ms/step - loss: 4.4615e-04\n",
      "Epoch 26/50\n",
      "73/73 [==============================] - 1s 9ms/step - loss: 3.4069e-04\n",
      "Epoch 27/50\n",
      "73/73 [==============================] - 1s 9ms/step - loss: 2.6571e-04\n",
      "Epoch 28/50\n",
      "73/73 [==============================] - 1s 9ms/step - loss: 2.7747e-04\n",
      "Epoch 29/50\n",
      "73/73 [==============================] - 1s 9ms/step - loss: 1.4466e-04\n",
      "Epoch 30/50\n",
      "73/73 [==============================] - 1s 9ms/step - loss: 1.4323e-04\n",
      "Epoch 31/50\n",
      "73/73 [==============================] - 1s 9ms/step - loss: 9.9765e-05\n",
      "Epoch 32/50\n",
      "73/73 [==============================] - 1s 9ms/step - loss: 8.0736e-05\n",
      "Epoch 33/50\n",
      "73/73 [==============================] - 1s 9ms/step - loss: 4.9060e-05\n",
      "Epoch 34/50\n",
      "73/73 [==============================] - 1s 9ms/step - loss: 4.0511e-05\n",
      "Epoch 35/50\n",
      "73/73 [==============================] - 1s 9ms/step - loss: 3.3994e-05\n",
      "Epoch 36/50\n",
      "73/73 [==============================] - 1s 9ms/step - loss: 2.3214e-05\n",
      "Epoch 37/50\n",
      "73/73 [==============================] - 1s 9ms/step - loss: 2.3647e-05\n",
      "Epoch 38/50\n",
      "73/73 [==============================] - 1s 9ms/step - loss: 2.4126e-05\n",
      "Epoch 39/50\n",
      "73/73 [==============================] - 1s 11ms/step - loss: 1.9467e-05\n",
      "Epoch 40/50\n",
      "73/73 [==============================] - 1s 9ms/step - loss: 1.2837e-05\n",
      "Epoch 41/50\n",
      "73/73 [==============================] - 1s 9ms/step - loss: 1.7010e-05\n",
      "Epoch 42/50\n",
      "73/73 [==============================] - 1s 9ms/step - loss: 1.6431e-05\n",
      "Epoch 43/50\n",
      "73/73 [==============================] - 1s 9ms/step - loss: 1.5760e-05\n",
      "Epoch 44/50\n",
      "73/73 [==============================] - 1s 9ms/step - loss: 1.4988e-05\n",
      "Epoch 45/50\n",
      "73/73 [==============================] - 1s 9ms/step - loss: 1.0938e-05\n",
      "Epoch 46/50\n",
      "73/73 [==============================] - 1s 10ms/step - loss: 1.1646e-05\n",
      "Epoch 47/50\n",
      "73/73 [==============================] - 1s 10ms/step - loss: 1.3626e-05\n",
      "Epoch 48/50\n",
      "73/73 [==============================] - 1s 10ms/step - loss: 1.3141e-05\n",
      "Epoch 49/50\n",
      "73/73 [==============================] - 1s 10ms/step - loss: 9.1229e-06\n",
      "Epoch 50/50\n",
      "73/73 [==============================] - 1s 10ms/step - loss: 1.2423e-05\n"
     ]
    },
    {
     "data": {
      "text/plain": [
       "<keras.callbacks.History at 0x1585096b7f0>"
      ]
     },
     "execution_count": 13,
     "metadata": {},
     "output_type": "execute_result"
    }
   ],
   "source": [
    "# Step 7: Build and train the RNN model\n",
    "model = Sequential()\n",
    "model.add(LSTM(64, input_shape=(seq_length, 1)))\n",
    "model.add(Dense(1))\n",
    "model.compile(loss='mean_squared_error', optimizer='adam')\n",
    "model.fit(X_train, y_train, epochs=50, batch_size=32)"
   ]
  },
  {
   "cell_type": "code",
   "execution_count": 14,
   "id": "f617a3b6",
   "metadata": {},
   "outputs": [
    {
     "name": "stdout",
     "output_type": "stream",
     "text": [
      "73/73 [==============================] - 1s 5ms/step\n",
      "18/18 [==============================] - 0s 6ms/step\n"
     ]
    }
   ],
   "source": [
    "# Step 8: Make predictions\n",
    "train_predictions = model.predict(X_train)\n",
    "test_predictions = model.predict(X_test)"
   ]
  },
  {
   "cell_type": "code",
   "execution_count": 15,
   "id": "877f0733",
   "metadata": {},
   "outputs": [],
   "source": [
    "# Step 9: Inverse transform the predictions\n",
    "train_predictions = scaler.inverse_transform(train_predictions)\n",
    "test_predictions = scaler.inverse_transform(test_predictions)"
   ]
  },
  {
   "cell_type": "code",
   "execution_count": 16,
   "id": "464e330c",
   "metadata": {},
   "outputs": [
    {
     "data": {
      "image/png": "[encoded data removed]",
      "text/plain": [
       "<Figure size 640x480 with 1 Axes>"
      ]
     },
     "metadata": {},
     "output_type": "display_data"
    }
   ],
   "source": [
    "# Step 10: Plot the predicted values\n",
    "plt.plot(data.index[:-seq_length], data['Price'][:-seq_length], label='Actual')\n",
    "plt.plot(data.index[seq_length:train_size], train_predictions, label='Train Predictions')\n",
    "plt.plot(data.index[train_size+seq_length:], test_predictions, label='Test Predictions')\n",
    "plt.legend()\n",
    "plt.xlabel('Date')\n",
    "plt.ylabel('Oil Price')\n",
    "plt.title('Oil Price Prediction')\n",
    "plt.show()"
   ]
  },
  {
   "cell_type": "code",
   "execution_count": 18,
   "id": "50f7ac97",
   "metadata": {},
   "outputs": [
    {
     "name": "stdout",
     "output_type": "stream",
     "text": [
      "Train RMSE: 68.14482705396092\n",
      "Test RMSE: 83.45653475093872\n"
     ]
    }
   ],
   "source": [
    "# Step 11: Evaluate the model\n",
    "train_rmse = np.sqrt(np.mean((train_predictions - y_train)**2))\n",
    "test_rmse = np.sqrt(np.mean((test_predictions - y_test)**2))\n",
    "print(f'Train RMSE: {train_rmse}')\n",
    "print(f'Test RMSE: {test_rmse}')"
   ]
  },
  {
   "cell_type": "code",
   "execution_count": 19,
   "id": "140f2f73",
   "metadata": {},
   "outputs": [
    {
     "name": "stdout",
     "output_type": "stream",
     "text": [
      "1/1 [==============================] - 0s 47ms/step\n"
     ]
    }
   ],
   "source": [
    "# Step 12: Perform future predictions\n",
    "future_periods = 30  # Number of future periods to predict\n",
    "future_inputs = create_sequences(data['Price'], seq_length)[-future_periods:]\n",
    "future_predictions = model.predict(future_inputs)\n",
    "future_predictions = scaler.inverse_transform(future_predictions)"
   ]
  },
  {
   "cell_type": "code",
   "execution_count": 21,
   "id": "a932c5cc",
   "metadata": {},
   "outputs": [
    {
     "data": {
      "image/png": "[encoded data removed]",
      "text/plain": [
       "<Figure size 640x480 with 1 Axes>"
      ]
     },
     "metadata": {},
     "output_type": "display_data"
    }
   ],
   "source": [
    "# Step 13: Plot future predictions\n",
    "future_dates = pd.date_range(start=data.index[-1], periods=future_periods+1)[1:]\n",
    "plt.plot(data.index, data['Price'], label='Actual')\n",
    "plt.plot(future_dates, future_predictions, label='Future Predictions')\n",
    "plt.legend()\n",
    "plt.xlabel('Date')\n",
    "plt.ylabel('Oil Price')\n",
    "plt.title('Future Oil Price Prediction')\n",
    "plt.show()\n"
   ]
  },
  {
   "cell_type": "code",
   "execution_count": 22,
   "id": "68a1815c",
   "metadata": {},
   "outputs": [
    {
     "name": "stdout",
     "output_type": "stream",
     "text": [
      "Train MAPE: 1698.245385549233\n",
      "Test MAPE: 392.18204586672385\n",
      "Train R^2: -4579.124644810709\n",
      "Test R^2: -16551.682259303572\n"
     ]
    }
   ],
   "source": [
    "from sklearn.metrics import mean_absolute_percentage_error, r2_score\n",
    "\n",
    "# Step 11: Evaluate the model\n",
    "train_mape = mean_absolute_percentage_error(train_data['Price'][seq_length:], train_predictions)\n",
    "test_mape = mean_absolute_percentage_error(test_data['Price'][seq_length:], test_predictions)\n",
    "\n",
    "train_r2 = r2_score(train_data['Price'][seq_length:], train_predictions)\n",
    "test_r2 = r2_score(test_data['Price'][seq_length:], test_predictions)\n",
    "\n",
    "print(f'Train MAPE: {train_mape}')\n",
    "print(f'Test MAPE: {test_mape}')\n",
    "\n",
    "print(f'Train R^2: {train_r2}')\n",
    "print(f'Test R^2: {test_r2}')\n"
   ]
  },
  {
   "cell_type": "code",
   "execution_count": null,
   "id": "d0f8f335",
   "metadata": {},
   "outputs": [],
   "source": []
  }
 ],
 "metadata": {
  "kernelspec": {
   "display_name": "Python 3 (ipykernel)",
   "language": "python",
   "name": "python3"
  },
  "language_info": {
   "codemirror_mode": {
    "name": "ipython",
    "version": 3
   },
   "file_extension": ".py",
   "mimetype": "text/x-python",
   "name": "python",
   "nbconvert_exporter": "python",
   "pygments_lexer": "ipython3",
   "version": "3.10.9"
  }
 },
 "nbformat": 4,
 "nbformat_minor": 5
}
